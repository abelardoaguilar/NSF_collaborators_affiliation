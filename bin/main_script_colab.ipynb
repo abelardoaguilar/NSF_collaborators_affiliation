{
  "nbformat": 4,
  "nbformat_minor": 0,
  "metadata": {
    "colab": {
      "provenance": [],
      "authorship_tag": "ABX9TyPKq0J2iNdMa4WalnSdCVNo",
      "include_colab_link": true
    },
    "kernelspec": {
      "name": "python3",
      "display_name": "Python 3"
    },
    "language_info": {
      "name": "python"
    }
  },
  "cells": [
    {
      "cell_type": "markdown",
      "metadata": {
        "id": "view-in-github",
        "colab_type": "text"
      },
      "source": [
        "<a href=\"https://colab.research.google.com/github/abelardoaguilar/NSF_collaborators_affiliation/blob/main/bin/main_script_colab.ipynb\" target=\"_parent\"><img src=\"https://colab.research.google.com/assets/colab-badge.svg\" alt=\"Open In Colab\"/></a>"
      ]
    },
    {
      "cell_type": "code",
      "execution_count": 20,
      "metadata": {
        "id": "OP8Pn6KPJerB",
        "colab": {
          "base_uri": "https://localhost:8080/"
        },
        "outputId": "b5369543-2dbd-4d2d-80ce-8e51c527c35e"
      },
      "outputs": [
        {
          "output_type": "stream",
          "name": "stdout",
          "text": [
            "Requirement already satisfied: requests in /usr/local/lib/python3.10/dist-packages (2.31.0)\n",
            "Requirement already satisfied: charset-normalizer<4,>=2 in /usr/local/lib/python3.10/dist-packages (from requests) (3.3.2)\n",
            "Requirement already satisfied: idna<4,>=2.5 in /usr/local/lib/python3.10/dist-packages (from requests) (3.6)\n",
            "Requirement already satisfied: urllib3<3,>=1.21.1 in /usr/local/lib/python3.10/dist-packages (from requests) (2.0.7)\n",
            "Requirement already satisfied: certifi>=2017.4.17 in /usr/local/lib/python3.10/dist-packages (from requests) (2024.2.2)\n",
            "Requirement already satisfied: pandas in /usr/local/lib/python3.10/dist-packages (1.5.3)\n",
            "Requirement already satisfied: python-dateutil>=2.8.1 in /usr/local/lib/python3.10/dist-packages (from pandas) (2.8.2)\n",
            "Requirement already satisfied: pytz>=2020.1 in /usr/local/lib/python3.10/dist-packages (from pandas) (2023.4)\n",
            "Requirement already satisfied: numpy>=1.21.0 in /usr/local/lib/python3.10/dist-packages (from pandas) (1.25.2)\n",
            "Requirement already satisfied: six>=1.5 in /usr/local/lib/python3.10/dist-packages (from python-dateutil>=2.8.1->pandas) (1.16.0)\n",
            "\u001b[31mERROR: Could not find a version that satisfies the requirement json (from versions: none)\u001b[0m\u001b[31m\n",
            "\u001b[0m\u001b[31mERROR: No matching distribution found for json\u001b[0m\u001b[31m\n",
            "\u001b[0mCloning into 'NSF_collaborators_affiliation'...\n",
            "remote: Enumerating objects: 54, done.\u001b[K\n",
            "remote: Counting objects: 100% (54/54), done.\u001b[K\n",
            "remote: Compressing objects: 100% (38/38), done.\u001b[K\n",
            "remote: Total 54 (delta 21), reused 43 (delta 13), pack-reused 0\u001b[K\n",
            "Receiving objects: 100% (54/54), 107.08 KiB | 5.95 MiB/s, done.\n",
            "Resolving deltas: 100% (21/21), done.\n",
            "/content/NSF_collaborators_affiliation/NSF_collaborators_affiliation/NSF_collaborators_affiliation/NSF_collaborators_affiliation\n"
          ]
        }
      ],
      "source": [
        "!pip install requests\n",
        "!pip install pandas\n",
        "!pip install json\n",
        "\n",
        "import sys\n",
        "import os\n",
        "import requests\n",
        "import json\n",
        "import csv\n",
        "import os\n",
        "import pandas as pd\n",
        "\n",
        "\n",
        "!git clone https://github.com/abelardoaguilar/NSF_collaborators_affiliation.git\n",
        "%cd NSF_collaborators_affiliation"
      ]
    },
    {
      "cell_type": "code",
      "source": [
        "from src.coauthors_affiliation import get_dois_from_ORCID\n",
        "\n",
        "author_name = \"A_LUQUE\"\n",
        "output_path = \"results/\"\n",
        "generate_individual_files = False\n",
        "include_timestamp = True\n",
        "global_json_file = os.path.join(output_path, f'{author_name}_all_articles_extensive_data.json')\n",
        "\n",
        "# Example usage get_combined_dois\n",
        "orcid_id = \"0000-0002-5817-4914\" # Replace with the actual ORCID ID\n",
        "query_dois = get_dois_from_ORCID.get_combined_dois(orcid_id)\n"
      ],
      "metadata": {
        "colab": {
          "base_uri": "https://localhost:8080/"
        },
        "id": "LvmoENlw6R9x",
        "outputId": "ecf43549-367a-40d9-b365-9814e7b47451"
      },
      "execution_count": 21,
      "outputs": [
        {
          "output_type": "stream",
          "name": "stdout",
          "text": [
            "DOIs for ORCID ID:0000-0002-5817-4914\n",
            "\n",
            "Number of DOIs from ORCID: 47\n",
            "Number of DOIs from CrossRef: 17\n",
            "Total number of unique DOIs: 39\n"
          ]
        }
      ]
    },
    {
      "cell_type": "code",
      "source": [
        "from src.coauthors_affiliation import fetch_coauthors_data\n",
        "import io\n",
        "from contextlib import redirect_stdout\n",
        "\n",
        "with io.StringIO() as buf, redirect_stdout(buf):\n",
        "    fetch_coauthors_data.generate_global_json_file(query_dois, generate_individual_files,global_json_file)\n",
        "    global_df = fetch_coauthors_data.generate_global_df(global_json_file)"
      ],
      "metadata": {
        "id": "VTd1BvBz8N6v"
      },
      "execution_count": 26,
      "outputs": []
    },
    {
      "cell_type": "code",
      "source": [
        "print(global_df)"
      ],
      "metadata": {
        "colab": {
          "base_uri": "https://localhost:8080/"
        },
        "id": "fT5UJIyN-EKV",
        "outputId": "01df7283-038d-481f-ce55-9a3b7b2cc7c9"
      },
      "execution_count": 27,
      "outputs": [
        {
          "output_type": "stream",
          "name": "stdout",
          "text": [
            "                              DOI  \\\n",
            "0    10.1088/1478-3975/9/3/036003   \n",
            "1    10.1088/1478-3975/9/3/036003   \n",
            "2    10.1088/1478-3975/9/3/036003   \n",
            "3             10.7554/elife.49114   \n",
            "4             10.7554/elife.49114   \n",
            "..                            ...   \n",
            "186    10.1038/nmicrobiol.2017.64   \n",
            "187    10.1038/nmicrobiol.2017.64   \n",
            "188    10.1038/nmicrobiol.2017.64   \n",
            "189    10.1038/nmicrobiol.2017.64   \n",
            "190    10.1038/nmicrobiol.2017.64   \n",
            "\n",
            "                                                 Title              Journal  \\\n",
            "0    Relevance of capsid structure in the buckling ...     Physical Biology   \n",
            "1    Relevance of capsid structure in the buckling ...     Physical Biology   \n",
            "2    Relevance of capsid structure in the buckling ...     Physical Biology   \n",
            "3    Biophysical and physiological processes causin...                eLife   \n",
            "4    Biophysical and physiological processes causin...                eLife   \n",
            "..                                                 ...                  ...   \n",
            "186  Variability and host density independence in i...  Nature Microbiology   \n",
            "187  Variability and host density independence in i...  Nature Microbiology   \n",
            "188  Variability and host density independence in i...  Nature Microbiology   \n",
            "189  Variability and host density independence in i...  Nature Microbiology   \n",
            "190  Variability and host density independence in i...  Nature Microbiology   \n",
            "\n",
            "     Publication Date Given Name Family Name  \\\n",
            "0                2012      María       Aznar   \n",
            "1                2012     Antoni       Luque   \n",
            "2                2012      David     Reguera   \n",
            "3                2019  Cynthia B    Silveira   \n",
            "4                2019     Antoni       Luque   \n",
            "..                ...        ...         ...   \n",
            "186              2017     Stuart      Sandin   \n",
            "187              2017       Anca      Segall   \n",
            "188              2017    Cynthia    Silveira   \n",
            "189              2017      Merry       Youle   \n",
            "190              2017     Forest      Rohwer   \n",
            "\n",
            "                                           Affiliation  \n",
            "0                                        Not available  \n",
            "1                                        Not available  \n",
            "2                                        Not available  \n",
            "3    Department of Biology, San Diego State Univers...  \n",
            "4    Viral Information Institute, San Diego State U...  \n",
            "..                                                 ...  \n",
            "186                                      Not available  \n",
            "187                                      Not available  \n",
            "188                                      Not available  \n",
            "189                                      Not available  \n",
            "190                                      Not available  \n",
            "\n",
            "[191 rows x 7 columns]\n"
          ]
        }
      ]
    }
  ]
}