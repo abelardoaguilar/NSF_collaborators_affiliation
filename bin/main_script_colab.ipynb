{
  "cells": [
    {
      "cell_type": "markdown",
      "metadata": {
        "colab_type": "text",
        "id": "view-in-github"
      },
      "source": [
        "<a href=\"https://colab.research.google.com/github/abelardoaguilar/NSF_collaborators_affiliation/blob/main/bin/main_script_colab.ipynb\" target=\"_parent\"><img src=\"https://colab.research.google.com/assets/colab-badge.svg\" alt=\"Open In Colab\"/></a>"
      ]
    },
    {
      "cell_type": "code",
      "execution_count": 1,
      "metadata": {
        "colab": {
          "base_uri": "https://localhost:8080/"
        },
        "id": "OP8Pn6KPJerB",
        "outputId": "b5369543-2dbd-4d2d-80ce-8e51c527c35e"
      },
      "outputs": [
        {
          "name": "stdout",
          "output_type": "stream",
          "text": [
            "Cloning into 'NSF_collaborators_affiliation'...\n",
            "remote: Enumerating objects: 58, done.\u001b[K\n",
            "remote: Counting objects: 100% (58/58), done.\u001b[K\n",
            "remote: Compressing objects: 100% (42/42), done.\u001b[K\n",
            "remote: Total 58 (delta 23), reused 41 (delta 13), pack-reused 0\u001b[K\n",
            "Receiving objects: 100% (58/58), 109.77 KiB | 4.99 MiB/s, done.\n",
            "Resolving deltas: 100% (23/23), done.\n",
            "/Users/abelardoaguilar/projects/github_repos/NSF_collaborators_affiliation/bin/NSF_collaborators_affiliation\n"
          ]
        }
      ],
      "source": [
        "#!pip install requests\n",
        "#!pip install pandas\n",
        "#!pip install json\n",
        "\n",
        "import sys\n",
        "import os\n",
        "import requests\n",
        "import json\n",
        "import csv\n",
        "import os\n",
        "import pandas as pd\n",
        "\n",
        "\n",
        "!git clone https://github.com/abelardoaguilar/NSF_collaborators_affiliation.git\n",
        "%cd NSF_collaborators_affiliation\n",
        "\n",
        "orcid_id = \"0000-0002-5817-4914\" # Replace with the actual ORCID ID\n",
        "author_name = \"A_LUQUE\"\n",
        "output_path = \"results/\"\n",
        "generate_individual_files = False\n",
        "include_timestamp = True\n",
        "global_json_file = os.path.join(output_path, f'{author_name}_all_articles_extensive_data.json')\n",
        "\n",
        "def main():\n",
        "    \"\"\"\n",
        "    This script performs data retrieval and analysis for NSF collaborators affiliation.\n",
        "    It installs necessary packages, clones a GitHub repository, and sets up variables for data processing.\n",
        "    \"\"\"\n",
        "    # Code for data retrieval and analysis goes here\n",
        "\n",
        "if __name__ == \"__main__\":\n",
        "    main()\n",
        "\n"
      ]
    },
    {
      "cell_type": "code",
      "execution_count": 2,
      "metadata": {
        "colab": {
          "base_uri": "https://localhost:8080/"
        },
        "id": "LvmoENlw6R9x",
        "outputId": "ecf43549-367a-40d9-b365-9814e7b47451"
      },
      "outputs": [
        {
          "name": "stdout",
          "output_type": "stream",
          "text": [
            "DOIs for ORCID ID:0000-0002-5817-4914\n",
            "\n",
            "Number of DOIs from ORCID: 47\n",
            "Number of DOIs from CrossRef: 17\n",
            "Total number of unique DOIs: 39\n"
          ]
        }
      ],
      "source": [
        "from src.coauthors_affiliation import get_dois_from_ORCID\n",
        "query_dois = get_dois_from_ORCID.get_combined_dois(orcid_id)"
      ]
    },
    {
      "cell_type": "code",
      "execution_count": 5,
      "metadata": {
        "id": "VTd1BvBz8N6v"
      },
      "outputs": [
        {
          "name": "stdout",
          "output_type": "stream",
          "text": [
            "                              DOI  \\\n",
            "0               10.3390/v14050973   \n",
            "1               10.3390/v14050973   \n",
            "2               10.3390/v14050973   \n",
            "3               10.3390/v14050973   \n",
            "4               10.3390/v14050973   \n",
            "..                            ...   \n",
            "186  10.1007/978-94-007-6552-8_19   \n",
            "187  10.1007/978-94-007-6552-8_19   \n",
            "188       10.1073/pnas.0915122107   \n",
            "189       10.1073/pnas.0915122107   \n",
            "190       10.1073/pnas.0915122107   \n",
            "\n",
            "                                                 Title  \\\n",
            "0    The International Virus Bioinformatics Meeting...   \n",
            "1    The International Virus Bioinformatics Meeting...   \n",
            "2    The International Virus Bioinformatics Meeting...   \n",
            "3    The International Virus Bioinformatics Meeting...   \n",
            "4    The International Virus Bioinformatics Meeting...   \n",
            "..                                                 ...   \n",
            "186  Theoretical Studies on Assembly, Physical Stab...   \n",
            "187  Theoretical Studies on Assembly, Physical Stab...   \n",
            "188         Optimal architectures of elongated viruses   \n",
            "189         Optimal architectures of elongated viruses   \n",
            "190         Optimal architectures of elongated viruses   \n",
            "\n",
            "                                             Journal  Publication Date  \\\n",
            "0                                            Viruses              2022   \n",
            "1                                            Viruses              2022   \n",
            "2                                            Viruses              2022   \n",
            "3                                            Viruses              2022   \n",
            "4                                            Viruses              2022   \n",
            "..                                               ...               ...   \n",
            "186                         Subcellular Biochemistry              2013   \n",
            "187                         Subcellular Biochemistry              2013   \n",
            "188  Proceedings of the National Academy of Sciences              2010   \n",
            "189  Proceedings of the National Academy of Sciences              2010   \n",
            "190  Proceedings of the National Academy of Sciences              2010   \n",
            "\n",
            "    Given Name        Family Name  \\\n",
            "0    Franziska             Hufsky   \n",
            "1        Denis             Beslic   \n",
            "2      Dimitri         Boeckaerts   \n",
            "3    Sebastian            Duchene   \n",
            "4      Enrique  González-Tortuero   \n",
            "..         ...                ...   \n",
            "186     Antoni              Luque   \n",
            "187      David            Reguera   \n",
            "188     Antoni              Luque   \n",
            "189       Roya              Zandi   \n",
            "190      David            Reguera   \n",
            "\n",
            "                                           Affiliation  \n",
            "0                                        Not available  \n",
            "1                                        Not available  \n",
            "2                                        Not available  \n",
            "3                                        Not available  \n",
            "4                                        Not available  \n",
            "..                                                 ...  \n",
            "186                                      Not available  \n",
            "187                                      Not available  \n",
            "188  Departament de Física Fonamental, Universitat ...  \n",
            "189  Department of Physics and Astronomy, Universit...  \n",
            "190  Departament de Física Fonamental, Universitat ...  \n",
            "\n",
            "[191 rows x 7 columns]\n"
          ]
        }
      ],
      "source": [
        "import io\n",
        "from src.coauthors_affiliation import fetch_coauthors_data\n",
        "from contextlib import redirect_stdout\n",
        "with io.StringIO() as buf, redirect_stdout(buf):\n",
        "    fetch_coauthors_data.generate_global_json_file(query_dois, generate_individual_files,global_json_file)\n",
        "    global_df = fetch_coauthors_data.generate_global_df(global_json_file)\n",
        "print(global_df)"
      ]
    }
  ],
  "metadata": {
    "colab": {
      "authorship_tag": "ABX9TyPKq0J2iNdMa4WalnSdCVNo",
      "include_colab_link": true,
      "provenance": []
    },
    "kernelspec": {
      "display_name": "Python 3",
      "name": "python3"
    },
    "language_info": {
      "codemirror_mode": {
        "name": "ipython",
        "version": 3
      },
      "file_extension": ".py",
      "mimetype": "text/x-python",
      "name": "python",
      "nbconvert_exporter": "python",
      "pygments_lexer": "ipython3",
      "version": "3.12.1"
    }
  },
  "nbformat": 4,
  "nbformat_minor": 0
}
